{
  "nbformat": 4,
  "nbformat_minor": 0,
  "metadata": {
    "colab": {
      "provenance": [],
      "authorship_tag": "ABX9TyNV25y/c4pf+gqykX7GGAzk",
      "include_colab_link": true
    },
    "kernelspec": {
      "name": "python3",
      "display_name": "Python 3"
    },
    "language_info": {
      "name": "python"
    }
  },
  "cells": [
    {
      "cell_type": "markdown",
      "metadata": {
        "id": "view-in-github",
        "colab_type": "text"
      },
      "source": [
        "<a href=\"https://colab.research.google.com/github/zyduan202/BASF_Project2_Codes/blob/Duan/Regression_Models.ipynb\" target=\"_parent\"><img src=\"https://colab.research.google.com/assets/colab-badge.svg\" alt=\"Open In Colab\"/></a>"
      ]
    },
    {
      "cell_type": "markdown",
      "source": [
        "# Regression model with regularization\n",
        "\n",
        "The use of regression models will provide a different perspective on the analysis in this paper. Furthermore, the small size of our dataset increases the risk of overfitting in machine learning models. However, regularization techniques can mitigate this problem. Therefore, we built four regression models aiming to make better predictions of the descriptors and perform a robustness check on the results presented in the paper."
      ],
      "metadata": {
        "id": "q3h_nnCU-oaF"
      }
    },
    {
      "cell_type": "code",
      "source": [],
      "metadata": {
        "id": "AW6gWruX_n6N"
      },
      "execution_count": null,
      "outputs": []
    },
    {
      "cell_type": "markdown",
      "source": [
        "## 1. Regression model using OLS estimates"
      ],
      "metadata": {
        "id": "OggeJlk7_pVK"
      }
    },
    {
      "cell_type": "code",
      "source": [],
      "metadata": {
        "id": "8WVhsXGo_43Z"
      },
      "execution_count": null,
      "outputs": []
    },
    {
      "cell_type": "markdown",
      "source": [
        "## 2. Lasso Regression"
      ],
      "metadata": {
        "id": "eYjxMHUV_5tm"
      }
    },
    {
      "cell_type": "code",
      "source": [],
      "metadata": {
        "id": "FtXmczGw__DA"
      },
      "execution_count": null,
      "outputs": []
    },
    {
      "cell_type": "markdown",
      "source": [
        "## 3. Ridge Regression"
      ],
      "metadata": {
        "id": "SfHf2RAp__Z7"
      }
    },
    {
      "cell_type": "code",
      "source": [],
      "metadata": {
        "id": "BUSc5iKkAD_X"
      },
      "execution_count": null,
      "outputs": []
    },
    {
      "cell_type": "markdown",
      "source": [
        "## 4. Elastic Net"
      ],
      "metadata": {
        "id": "YKSFnU66AEuE"
      }
    }
  ]
}